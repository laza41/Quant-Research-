{
 "cells": [
  {
   "cell_type": "code",
   "execution_count": 1,
   "metadata": {},
   "outputs": [],
   "source": [
    "import yfinance as yf"
   ]
  },
  {
   "cell_type": "code",
   "execution_count": 2,
   "metadata": {},
   "outputs": [],
   "source": [
    "import pandas as pd\n",
    "import numpy as np\n",
    "import math\n",
    "import statsmodels.api as sm\n",
    "import matplotlib as plt\n",
    "import matplotlib.pyplot as plt\n",
    "import matplotlib.dates as mdates\n",
    "from matplotlib.pyplot import figure\n",
    "from matplotlib import dates\n",
    "from datetime import datetime\n",
    "import scipy.stats as stats\n",
    "import seaborn as sns\n",
    "from sklearn.metrics import mean_absolute_error,r2_score, mean_squared_error, explained_variance_score\n",
    "from sklearn.model_selection import train_test_split\n",
    "from sklearn import preprocessing\n",
    "from sklearn import metrics\n",
    "from sklearn.model_selection import TimeSeriesSplit\n",
    "from statsmodels.tsa.regime_switching.markov_regression import MarkovRegression\n",
    "import tensorflow as tf\n",
    "from keras.wrappers.scikit_learn import KerasClassifier\n",
    "from sklearn.model_selection import GridSearchCV\n",
    "from tensorflow.keras.models import Sequential\n",
    "from tensorflow.keras.layers import Dense, Activation, LSTM\n",
    "from tensorflow.keras.optimizers import Adam\n",
    "from sklearn.preprocessing import MinMaxScaler\n",
    "from sklearn import neural_network\n",
    "import warnings\n",
    "warnings.filterwarnings('ignore')"
   ]
  },
  {
   "cell_type": "code",
   "execution_count": 3,
   "metadata": {},
   "outputs": [],
   "source": [
    "SPY = yf.Ticker(\"SPY\")\n",
    "\n",
    "# get stock info\n",
    "#SPY.info\n",
    "\n",
    "# get historical market data\n",
    "hist = SPY.history(period=\"max\",interval='1d',)"
   ]
  },
  {
   "cell_type": "code",
   "execution_count": 4,
   "metadata": {},
   "outputs": [],
   "source": [
    "df_drop = hist.drop('Dividends', axis=1)\n",
    "df = df_drop.drop('Stock Splits', axis=1)"
   ]
  },
  {
   "cell_type": "code",
   "execution_count": 5,
   "metadata": {},
   "outputs": [
    {
     "data": {
      "text/html": [
       "<div>\n",
       "<style scoped>\n",
       "    .dataframe tbody tr th:only-of-type {\n",
       "        vertical-align: middle;\n",
       "    }\n",
       "\n",
       "    .dataframe tbody tr th {\n",
       "        vertical-align: top;\n",
       "    }\n",
       "\n",
       "    .dataframe thead th {\n",
       "        text-align: right;\n",
       "    }\n",
       "</style>\n",
       "<table border=\"1\" class=\"dataframe\">\n",
       "  <thead>\n",
       "    <tr style=\"text-align: right;\">\n",
       "      <th></th>\n",
       "      <th>Date</th>\n",
       "      <th>Open</th>\n",
       "      <th>High</th>\n",
       "      <th>Low</th>\n",
       "      <th>Close</th>\n",
       "      <th>Volume</th>\n",
       "      <th>Capital Gains</th>\n",
       "    </tr>\n",
       "  </thead>\n",
       "  <tbody>\n",
       "    <tr>\n",
       "      <th>0</th>\n",
       "      <td>1993-01-29 00:00:00-05:00</td>\n",
       "      <td>25.236160</td>\n",
       "      <td>25.236160</td>\n",
       "      <td>25.110607</td>\n",
       "      <td>25.218224</td>\n",
       "      <td>1003200</td>\n",
       "      <td>0.0</td>\n",
       "    </tr>\n",
       "    <tr>\n",
       "      <th>1</th>\n",
       "      <td>1993-02-01 00:00:00-05:00</td>\n",
       "      <td>25.236156</td>\n",
       "      <td>25.397581</td>\n",
       "      <td>25.236156</td>\n",
       "      <td>25.397581</td>\n",
       "      <td>480500</td>\n",
       "      <td>0.0</td>\n",
       "    </tr>\n",
       "    <tr>\n",
       "      <th>2</th>\n",
       "      <td>1993-02-02 00:00:00-05:00</td>\n",
       "      <td>25.379647</td>\n",
       "      <td>25.469327</td>\n",
       "      <td>25.325838</td>\n",
       "      <td>25.451391</td>\n",
       "      <td>201300</td>\n",
       "      <td>0.0</td>\n",
       "    </tr>\n",
       "    <tr>\n",
       "      <th>3</th>\n",
       "      <td>1993-02-03 00:00:00-05:00</td>\n",
       "      <td>25.487274</td>\n",
       "      <td>25.738380</td>\n",
       "      <td>25.469338</td>\n",
       "      <td>25.720444</td>\n",
       "      <td>529400</td>\n",
       "      <td>0.0</td>\n",
       "    </tr>\n",
       "    <tr>\n",
       "      <th>4</th>\n",
       "      <td>1993-02-04 00:00:00-05:00</td>\n",
       "      <td>25.810130</td>\n",
       "      <td>25.881874</td>\n",
       "      <td>25.523151</td>\n",
       "      <td>25.828066</td>\n",
       "      <td>531500</td>\n",
       "      <td>0.0</td>\n",
       "    </tr>\n",
       "    <tr>\n",
       "      <th>...</th>\n",
       "      <td>...</td>\n",
       "      <td>...</td>\n",
       "      <td>...</td>\n",
       "      <td>...</td>\n",
       "      <td>...</td>\n",
       "      <td>...</td>\n",
       "      <td>...</td>\n",
       "    </tr>\n",
       "    <tr>\n",
       "      <th>7578</th>\n",
       "      <td>2023-03-06 00:00:00-05:00</td>\n",
       "      <td>405.049988</td>\n",
       "      <td>407.450012</td>\n",
       "      <td>404.010010</td>\n",
       "      <td>404.470001</td>\n",
       "      <td>72795900</td>\n",
       "      <td>0.0</td>\n",
       "    </tr>\n",
       "    <tr>\n",
       "      <th>7579</th>\n",
       "      <td>2023-03-07 00:00:00-05:00</td>\n",
       "      <td>404.420013</td>\n",
       "      <td>404.670013</td>\n",
       "      <td>397.630005</td>\n",
       "      <td>398.269989</td>\n",
       "      <td>108310600</td>\n",
       "      <td>0.0</td>\n",
       "    </tr>\n",
       "    <tr>\n",
       "      <th>7580</th>\n",
       "      <td>2023-03-08 00:00:00-05:00</td>\n",
       "      <td>398.390015</td>\n",
       "      <td>399.709991</td>\n",
       "      <td>396.589996</td>\n",
       "      <td>398.920013</td>\n",
       "      <td>74746600</td>\n",
       "      <td>0.0</td>\n",
       "    </tr>\n",
       "    <tr>\n",
       "      <th>7581</th>\n",
       "      <td>2023-03-09 00:00:00-05:00</td>\n",
       "      <td>399.739990</td>\n",
       "      <td>401.480011</td>\n",
       "      <td>390.529999</td>\n",
       "      <td>391.559998</td>\n",
       "      <td>111945300</td>\n",
       "      <td>0.0</td>\n",
       "    </tr>\n",
       "    <tr>\n",
       "      <th>7582</th>\n",
       "      <td>2023-03-10 00:00:00-05:00</td>\n",
       "      <td>390.989990</td>\n",
       "      <td>393.160004</td>\n",
       "      <td>384.320007</td>\n",
       "      <td>385.910004</td>\n",
       "      <td>189105300</td>\n",
       "      <td>0.0</td>\n",
       "    </tr>\n",
       "  </tbody>\n",
       "</table>\n",
       "<p>7583 rows × 7 columns</p>\n",
       "</div>"
      ],
      "text/plain": [
       "                          Date        Open        High         Low  \\\n",
       "0    1993-01-29 00:00:00-05:00   25.236160   25.236160   25.110607   \n",
       "1    1993-02-01 00:00:00-05:00   25.236156   25.397581   25.236156   \n",
       "2    1993-02-02 00:00:00-05:00   25.379647   25.469327   25.325838   \n",
       "3    1993-02-03 00:00:00-05:00   25.487274   25.738380   25.469338   \n",
       "4    1993-02-04 00:00:00-05:00   25.810130   25.881874   25.523151   \n",
       "...                        ...         ...         ...         ...   \n",
       "7578 2023-03-06 00:00:00-05:00  405.049988  407.450012  404.010010   \n",
       "7579 2023-03-07 00:00:00-05:00  404.420013  404.670013  397.630005   \n",
       "7580 2023-03-08 00:00:00-05:00  398.390015  399.709991  396.589996   \n",
       "7581 2023-03-09 00:00:00-05:00  399.739990  401.480011  390.529999   \n",
       "7582 2023-03-10 00:00:00-05:00  390.989990  393.160004  384.320007   \n",
       "\n",
       "           Close     Volume  Capital Gains  \n",
       "0      25.218224    1003200            0.0  \n",
       "1      25.397581     480500            0.0  \n",
       "2      25.451391     201300            0.0  \n",
       "3      25.720444     529400            0.0  \n",
       "4      25.828066     531500            0.0  \n",
       "...          ...        ...            ...  \n",
       "7578  404.470001   72795900            0.0  \n",
       "7579  398.269989  108310600            0.0  \n",
       "7580  398.920013   74746600            0.0  \n",
       "7581  391.559998  111945300            0.0  \n",
       "7582  385.910004  189105300            0.0  \n",
       "\n",
       "[7583 rows x 7 columns]"
      ]
     },
     "execution_count": 5,
     "metadata": {},
     "output_type": "execute_result"
    }
   ],
   "source": [
    "df=df.reset_index()\n",
    "df"
   ]
  },
  {
   "cell_type": "code",
   "execution_count": 6,
   "metadata": {},
   "outputs": [
    {
     "data": {
      "text/plain": [
       "0        25.200287\n",
       "1        25.316868\n",
       "2        25.406551\n",
       "3        25.603859\n",
       "4        25.760805\n",
       "           ...    \n",
       "7578    405.245003\n",
       "7579    401.247505\n",
       "7580    398.402504\n",
       "7581    395.827499\n",
       "7582    388.595001\n",
       "Length: 7583, dtype: float64"
      ]
     },
     "execution_count": 6,
     "metadata": {},
     "output_type": "execute_result"
    }
   ],
   "source": [
    "OHLC_avg = df[['Close', 'Open', 'High', 'Low']].mean(axis = 1)\n",
    "\n",
    "OHLC_avg"
   ]
  },
  {
   "cell_type": "code",
   "execution_count": 7,
   "metadata": {},
   "outputs": [],
   "source": [
    "OHLC_avg = np.reshape(OHLC_avg.values, (len(OHLC_avg),1))\n",
    "scaler = MinMaxScaler(feature_range=(0, 1))\n",
    "OHLC_avg = scaler.fit_transform(OHLC_avg)"
   ]
  },
  {
   "cell_type": "code",
   "execution_count": 8,
   "metadata": {},
   "outputs": [],
   "source": [
    "train_OHLC = int(len(OHLC_avg) * 0.80)\n",
    "test_OHLC = len(OHLC_avg) - train_OHLC\n",
    "train_OHLC, test_OHLC = OHLC_avg[0:train_OHLC,:], OHLC_avg[train_OHLC:len(OHLC_avg),:]"
   ]
  },
  {
   "cell_type": "code",
   "execution_count": 9,
   "metadata": {},
   "outputs": [],
   "source": [
    "step_size = 1"
   ]
  },
  {
   "cell_type": "code",
   "execution_count": 10,
   "metadata": {},
   "outputs": [],
   "source": [
    "def new_dataset(dataset, step_size):\n",
    "    data_X, data_Y = [], []\n",
    "    for i in range(len(dataset)-step_size-1):\n",
    "        a = dataset[i:(i+step_size), 0]\n",
    "        data_X.append(a)\n",
    "        data_Y.append(dataset[i + step_size, 0])\n",
    "    return np.array(data_X), np.array(data_Y)"
   ]
  },
  {
   "cell_type": "code",
   "execution_count": 11,
   "metadata": {},
   "outputs": [],
   "source": [
    "trainX, trainY = new_dataset(train_OHLC, 1)\n",
    "testX, testY = new_dataset(test_OHLC, 1)"
   ]
  },
  {
   "cell_type": "code",
   "execution_count": 12,
   "metadata": {},
   "outputs": [],
   "source": [
    "trainX = np.reshape(trainX, (trainX.shape[0], 1, trainX.shape[1]))\n",
    "testX = np.reshape(testX, (testX.shape[0], 1, testX.shape[1]))"
   ]
  },
  {
   "cell_type": "code",
   "execution_count": 13,
   "metadata": {},
   "outputs": [
    {
     "name": "stdout",
     "output_type": "stream",
     "text": [
      "Epoch 1/5\n",
      "6064/6064 [==============================] - 22s 3ms/step - loss: 5.3336e-04\n",
      "Epoch 2/5\n",
      "6064/6064 [==============================] - 21s 3ms/step - loss: 1.0650e-05\n",
      "Epoch 3/5\n",
      "6064/6064 [==============================] - 24s 4ms/step - loss: 1.0313e-05\n",
      "Epoch 4/5\n",
      "6064/6064 [==============================] - 20s 3ms/step - loss: 1.0625e-05\n",
      "Epoch 5/5\n",
      "6064/6064 [==============================] - 24s 4ms/step - loss: 1.0204e-05\n"
     ]
    },
    {
     "data": {
      "text/plain": [
       "<keras.callbacks.History at 0x1da4a378cd0>"
      ]
     },
     "execution_count": 13,
     "metadata": {},
     "output_type": "execute_result"
    }
   ],
   "source": [
    "model = Sequential()\n",
    "model.add(LSTM(32, input_shape=(1, step_size), return_sequences = True))\n",
    "model.add(LSTM(16))\n",
    "model.add(Dense(1))\n",
    "\n",
    "model.compile(loss='mean_squared_error', optimizer='adam')\n",
    "model.fit(trainX, trainY, epochs=5, batch_size=1, verbose=1)"
   ]
  },
  {
   "cell_type": "code",
   "execution_count": 14,
   "metadata": {},
   "outputs": [
    {
     "name": "stdout",
     "output_type": "stream",
     "text": [
      "190/190 [==============================] - 1s 2ms/step\n",
      "48/48 [==============================] - 0s 2ms/step\n"
     ]
    }
   ],
   "source": [
    "trainPredict = model.predict(trainX)\n",
    "testPredict = model.predict(testX)"
   ]
  },
  {
   "cell_type": "code",
   "execution_count": 15,
   "metadata": {},
   "outputs": [],
   "source": [
    "trainPredict = scaler.inverse_transform(trainPredict)\n",
    "trainY = scaler.inverse_transform([trainY])\n",
    "testPredict = scaler.inverse_transform(testPredict)\n",
    "testY = scaler.inverse_transform([testY])"
   ]
  },
  {
   "cell_type": "code",
   "execution_count": 16,
   "metadata": {},
   "outputs": [
    {
     "name": "stdout",
     "output_type": "stream",
     "text": [
      "Train RMSE: 1.83\n",
      "Test RMSE: 12.45\n"
     ]
    }
   ],
   "source": [
    "trainScore = math.sqrt(mean_squared_error(trainY[0], trainPredict[:,0]))\n",
    "print('Train RMSE: %.2f' % (trainScore))\n",
    "\n",
    "testScore = math.sqrt(mean_squared_error(testY[0], testPredict[:,0]))\n",
    "print('Test RMSE: %.2f' % (testScore))"
   ]
  },
  {
   "cell_type": "code",
   "execution_count": 17,
   "metadata": {},
   "outputs": [
    {
     "data": {
      "text/plain": [
       "1.6491921927030768"
      ]
     },
     "execution_count": 17,
     "metadata": {},
     "output_type": "execute_result"
    }
   ],
   "source": [
    " mean_absolute_error(trainY[0],trainPredict[:,0])"
   ]
  },
  {
   "cell_type": "code",
   "execution_count": 18,
   "metadata": {},
   "outputs": [
    {
     "data": {
      "text/plain": [
       "0.9995130844995802"
      ]
     },
     "execution_count": 18,
     "metadata": {},
     "output_type": "execute_result"
    }
   ],
   "source": [
    "explained_variance_score(trainY[0],trainPredict[:,0])"
   ]
  },
  {
   "cell_type": "code",
   "execution_count": 19,
   "metadata": {},
   "outputs": [],
   "source": [
    "trainPredictPlot = np.empty_like(OHLC_avg)\n",
    "trainPredictPlot[:, :] = np.nan\n",
    "trainPredictPlot[step_size:len(trainPredict)+step_size, :] = trainPredict"
   ]
  },
  {
   "cell_type": "code",
   "execution_count": 20,
   "metadata": {},
   "outputs": [],
   "source": [
    "testPredictPlot = np.empty_like(OHLC_avg)\n",
    "testPredictPlot[:, :] = np.nan\n",
    "testPredictPlot[len(trainPredict)+(step_size*2)+1:len(OHLC_avg)-1, :] = testPredict\n",
    "\n",
    "# DE-NORMALIZING MAIN DATASET \n",
    "OHLC_avg = scaler.inverse_transform(OHLC_avg)"
   ]
  },
  {
   "cell_type": "code",
   "execution_count": 21,
   "metadata": {},
   "outputs": [
    {
     "data": {
      "image/png": "[encoded data removed]",
      "text/plain": [
       "<Figure size 640x480 with 1 Axes>"
      ]
     },
     "metadata": {},
     "output_type": "display_data"
    }
   ],
   "source": [
    "plt.plot(OHLC_avg, 'g', label = 'original dataset')\n",
    "plt.plot(trainPredictPlot, 'r', label = 'training set')\n",
    "plt.plot(testPredictPlot, 'b', label = 'predicted stock price/test set')\n",
    "plt.legend(loc = 'upper right')\n",
    "plt.xlabel('Time in Days')\n",
    "plt.ylabel('OHLC Value of Apple Stocks')\n",
    "plt.show()"
   ]
  },
  {
   "cell_type": "code",
   "execution_count": 22,
   "metadata": {
    "scrolled": true
   },
   "outputs": [
    {
     "name": "stdout",
     "output_type": "stream",
     "text": [
      "Epoch 1/5\n",
      "7581/7581 - 21s - loss: 20710.3125 - 21s/epoch - 3ms/step\n",
      "Epoch 2/5\n",
      "7581/7581 - 20s - loss: 11885.0498 - 20s/epoch - 3ms/step\n",
      "Epoch 3/5\n",
      "7581/7581 - 21s - loss: 7532.6670 - 21s/epoch - 3ms/step\n",
      "Epoch 4/5\n",
      "7581/7581 - 19s - loss: 4881.5991 - 19s/epoch - 3ms/step\n",
      "Epoch 5/5\n",
      "7581/7581 - 21s - loss: 3199.7747 - 21s/epoch - 3ms/step\n",
      "1/1 [==============================] - 1s 1s/step\n",
      "Epoch 1/5\n",
      "7582/7582 - 27s - loss: 2128.9260 - 27s/epoch - 4ms/step\n",
      "Epoch 2/5\n",
      "7582/7582 - 24s - loss: 1397.3112 - 24s/epoch - 3ms/step\n",
      "Epoch 3/5\n",
      "7582/7582 - 22s - loss: 959.2197 - 22s/epoch - 3ms/step\n",
      "Epoch 4/5\n",
      "7582/7582 - 20s - loss: 720.7673 - 20s/epoch - 3ms/step\n",
      "Epoch 5/5\n",
      "7582/7582 - 24s - loss: 482.1232 - 24s/epoch - 3ms/step\n",
      "1/1 [==============================] - 0s 34ms/step\n",
      "Epoch 1/5\n",
      "7583/7583 - 29s - loss: 501.8268 - 29s/epoch - 4ms/step\n",
      "Epoch 2/5\n",
      "7583/7583 - 25s - loss: 208.3768 - 25s/epoch - 3ms/step\n",
      "Epoch 3/5\n",
      "7583/7583 - 25s - loss: 259.2370 - 25s/epoch - 3ms/step\n",
      "Epoch 4/5\n",
      "7583/7583 - 25s - loss: 235.8886 - 25s/epoch - 3ms/step\n",
      "Epoch 5/5\n",
      "7583/7583 - 26s - loss: 5307.8208 - 26s/epoch - 3ms/step\n",
      "1/1 [==============================] - 0s 35ms/step\n",
      "Epoch 1/5\n",
      "7584/7584 - 26s - loss: 481.2788 - 26s/epoch - 3ms/step\n",
      "Epoch 2/5\n",
      "7584/7584 - 25s - loss: 321.4867 - 25s/epoch - 3ms/step\n",
      "Epoch 3/5\n",
      "7584/7584 - 22s - loss: 254.4926 - 22s/epoch - 3ms/step\n",
      "Epoch 4/5\n",
      "7584/7584 - 22s - loss: 209.5770 - 22s/epoch - 3ms/step\n",
      "Epoch 5/5\n",
      "7584/7584 - 21s - loss: 198.6200 - 21s/epoch - 3ms/step\n",
      "1/1 [==============================] - 0s 30ms/step\n",
      "Epoch 1/5\n",
      "7585/7585 - 20s - loss: 157.4960 - 20s/epoch - 3ms/step\n",
      "Epoch 2/5\n",
      "7585/7585 - 22s - loss: 114.8318 - 22s/epoch - 3ms/step\n",
      "Epoch 3/5\n",
      "7585/7585 - 23s - loss: 300.4888 - 23s/epoch - 3ms/step\n",
      "Epoch 4/5\n",
      "7585/7585 - 22s - loss: 142.2784 - 22s/epoch - 3ms/step\n",
      "Epoch 5/5\n",
      "7585/7585 - 20s - loss: 172.6896 - 20s/epoch - 3ms/step\n",
      "1/1 [==============================] - 0s 28ms/step\n"
     ]
    }
   ],
   "source": [
    "model3=Sequential()\n",
    "model3.add(LSTM(32, input_shape=(1, step_size), return_sequences = True))\n",
    "model3.add(LSTM(16))\n",
    "model3.add(Dense(1))\n",
    "model3.compile(loss='mean_squared_error', optimizer='adam') \n",
    "\n",
    "new_OHLC_avg=OHLC_avg.copy()\n",
    "\n",
    "for i in range(5):\n",
    "    trainX3, trainY3=new_dataset(new_OHLC_avg, 1)\n",
    "    trainX3 = np.reshape(trainX3, (trainX3.shape[0], 1, trainX3.shape[1]))\n",
    "    model3.fit(trainX3, trainY3, epochs=5, batch_size=1, verbose=2)\n",
    "    \n",
    "    last_val = new_OHLC_avg[-1]\n",
    "    next_val = model3.predict(np.reshape(last_val, (1,1,1)))\n",
    "    new_OHLC_avg = np.append(new_OHLC_avg, next_val[0])\n",
    "    new_OHLC_avg=new_OHLC_avg.reshape(-1,1)"
   ]
  },
  {
   "cell_type": "code",
   "execution_count": 23,
   "metadata": {},
   "outputs": [],
   "source": [
    "next_val = scaler.inverse_transform(new_OHLC_avg[-90:])\n",
    "OHLC_avg=scaler.inverse_transform(OHLC_avg)"
   ]
  },
  {
   "cell_type": "code",
   "execution_count": 24,
   "metadata": {},
   "outputs": [],
   "source": [
    "df_new = pd.DataFrame(next_val)\n",
    "df_old =  pd.DataFrame(OHLC_avg)"
   ]
  },
  {
   "cell_type": "code",
   "execution_count": 25,
   "metadata": {},
   "outputs": [],
   "source": [
    "df_full = df_old.append(df_new)"
   ]
  },
  {
   "cell_type": "code",
   "execution_count": 26,
   "metadata": {},
   "outputs": [],
   "source": [
    "df_reset = df_full.reset_index()\n",
    "df_ful = df_reset.drop(['index'], axis=1)"
   ]
  },
  {
   "cell_type": "code",
   "execution_count": 27,
   "metadata": {},
   "outputs": [
    {
     "data": {
      "text/html": [
       "<div>\n",
       "<style scoped>\n",
       "    .dataframe tbody tr th:only-of-type {\n",
       "        vertical-align: middle;\n",
       "    }\n",
       "\n",
       "    .dataframe tbody tr th {\n",
       "        vertical-align: top;\n",
       "    }\n",
       "\n",
       "    .dataframe thead th {\n",
       "        text-align: right;\n",
       "    }\n",
       "</style>\n",
       "<table border=\"1\" class=\"dataframe\">\n",
       "  <thead>\n",
       "    <tr style=\"text-align: right;\">\n",
       "      <th></th>\n",
       "      <th>Date</th>\n",
       "      <th>Open</th>\n",
       "      <th>High</th>\n",
       "      <th>Low</th>\n",
       "      <th>Close</th>\n",
       "      <th>Volume</th>\n",
       "      <th>Capital Gains</th>\n",
       "    </tr>\n",
       "  </thead>\n",
       "  <tbody>\n",
       "    <tr>\n",
       "      <th>0</th>\n",
       "      <td>1993-01-29 00:00:00-05:00</td>\n",
       "      <td>25.236160</td>\n",
       "      <td>25.236160</td>\n",
       "      <td>25.110607</td>\n",
       "      <td>25.218224</td>\n",
       "      <td>1003200</td>\n",
       "      <td>0.0</td>\n",
       "    </tr>\n",
       "    <tr>\n",
       "      <th>1</th>\n",
       "      <td>1993-02-01 00:00:00-05:00</td>\n",
       "      <td>25.236156</td>\n",
       "      <td>25.397581</td>\n",
       "      <td>25.236156</td>\n",
       "      <td>25.397581</td>\n",
       "      <td>480500</td>\n",
       "      <td>0.0</td>\n",
       "    </tr>\n",
       "    <tr>\n",
       "      <th>2</th>\n",
       "      <td>1993-02-02 00:00:00-05:00</td>\n",
       "      <td>25.379647</td>\n",
       "      <td>25.469327</td>\n",
       "      <td>25.325838</td>\n",
       "      <td>25.451391</td>\n",
       "      <td>201300</td>\n",
       "      <td>0.0</td>\n",
       "    </tr>\n",
       "    <tr>\n",
       "      <th>3</th>\n",
       "      <td>1993-02-03 00:00:00-05:00</td>\n",
       "      <td>25.487274</td>\n",
       "      <td>25.738380</td>\n",
       "      <td>25.469338</td>\n",
       "      <td>25.720444</td>\n",
       "      <td>529400</td>\n",
       "      <td>0.0</td>\n",
       "    </tr>\n",
       "    <tr>\n",
       "      <th>4</th>\n",
       "      <td>1993-02-04 00:00:00-05:00</td>\n",
       "      <td>25.810130</td>\n",
       "      <td>25.881874</td>\n",
       "      <td>25.523151</td>\n",
       "      <td>25.828066</td>\n",
       "      <td>531500</td>\n",
       "      <td>0.0</td>\n",
       "    </tr>\n",
       "    <tr>\n",
       "      <th>...</th>\n",
       "      <td>...</td>\n",
       "      <td>...</td>\n",
       "      <td>...</td>\n",
       "      <td>...</td>\n",
       "      <td>...</td>\n",
       "      <td>...</td>\n",
       "      <td>...</td>\n",
       "    </tr>\n",
       "    <tr>\n",
       "      <th>7578</th>\n",
       "      <td>2023-03-06 00:00:00-05:00</td>\n",
       "      <td>405.049988</td>\n",
       "      <td>407.450012</td>\n",
       "      <td>404.010010</td>\n",
       "      <td>404.470001</td>\n",
       "      <td>72795900</td>\n",
       "      <td>0.0</td>\n",
       "    </tr>\n",
       "    <tr>\n",
       "      <th>7579</th>\n",
       "      <td>2023-03-07 00:00:00-05:00</td>\n",
       "      <td>404.420013</td>\n",
       "      <td>404.670013</td>\n",
       "      <td>397.630005</td>\n",
       "      <td>398.269989</td>\n",
       "      <td>108310600</td>\n",
       "      <td>0.0</td>\n",
       "    </tr>\n",
       "    <tr>\n",
       "      <th>7580</th>\n",
       "      <td>2023-03-08 00:00:00-05:00</td>\n",
       "      <td>398.390015</td>\n",
       "      <td>399.709991</td>\n",
       "      <td>396.589996</td>\n",
       "      <td>398.920013</td>\n",
       "      <td>74746600</td>\n",
       "      <td>0.0</td>\n",
       "    </tr>\n",
       "    <tr>\n",
       "      <th>7581</th>\n",
       "      <td>2023-03-09 00:00:00-05:00</td>\n",
       "      <td>399.739990</td>\n",
       "      <td>401.480011</td>\n",
       "      <td>390.529999</td>\n",
       "      <td>391.559998</td>\n",
       "      <td>111945300</td>\n",
       "      <td>0.0</td>\n",
       "    </tr>\n",
       "    <tr>\n",
       "      <th>7582</th>\n",
       "      <td>2023-03-10 00:00:00-05:00</td>\n",
       "      <td>390.989990</td>\n",
       "      <td>393.160004</td>\n",
       "      <td>384.320007</td>\n",
       "      <td>385.910004</td>\n",
       "      <td>189105300</td>\n",
       "      <td>0.0</td>\n",
       "    </tr>\n",
       "  </tbody>\n",
       "</table>\n",
       "<p>7583 rows × 7 columns</p>\n",
       "</div>"
      ],
      "text/plain": [
       "                          Date        Open        High         Low  \\\n",
       "0    1993-01-29 00:00:00-05:00   25.236160   25.236160   25.110607   \n",
       "1    1993-02-01 00:00:00-05:00   25.236156   25.397581   25.236156   \n",
       "2    1993-02-02 00:00:00-05:00   25.379647   25.469327   25.325838   \n",
       "3    1993-02-03 00:00:00-05:00   25.487274   25.738380   25.469338   \n",
       "4    1993-02-04 00:00:00-05:00   25.810130   25.881874   25.523151   \n",
       "...                        ...         ...         ...         ...   \n",
       "7578 2023-03-06 00:00:00-05:00  405.049988  407.450012  404.010010   \n",
       "7579 2023-03-07 00:00:00-05:00  404.420013  404.670013  397.630005   \n",
       "7580 2023-03-08 00:00:00-05:00  398.390015  399.709991  396.589996   \n",
       "7581 2023-03-09 00:00:00-05:00  399.739990  401.480011  390.529999   \n",
       "7582 2023-03-10 00:00:00-05:00  390.989990  393.160004  384.320007   \n",
       "\n",
       "           Close     Volume  Capital Gains  \n",
       "0      25.218224    1003200            0.0  \n",
       "1      25.397581     480500            0.0  \n",
       "2      25.451391     201300            0.0  \n",
       "3      25.720444     529400            0.0  \n",
       "4      25.828066     531500            0.0  \n",
       "...          ...        ...            ...  \n",
       "7578  404.470001   72795900            0.0  \n",
       "7579  398.269989  108310600            0.0  \n",
       "7580  398.920013   74746600            0.0  \n",
       "7581  391.559998  111945300            0.0  \n",
       "7582  385.910004  189105300            0.0  \n",
       "\n",
       "[7583 rows x 7 columns]"
      ]
     },
     "execution_count": 27,
     "metadata": {},
     "output_type": "execute_result"
    }
   ],
   "source": [
    "df"
   ]
  },
  {
   "cell_type": "code",
   "execution_count": 28,
   "metadata": {},
   "outputs": [],
   "source": [
    "from matplotlib.pyplot import figure"
   ]
  },
  {
   "cell_type": "code",
   "execution_count": 29,
   "metadata": {},
   "outputs": [
    {
     "data": {
      "image/png": "[encoded data removed]",
      "text/plain": [
       "<Figure size 640x480 with 1 Axes>"
      ]
     },
     "metadata": {},
     "output_type": "display_data"
    }
   ],
   "source": [
    "plt.scatter(trainY[0],trainPredict[:,0])\n",
    "plt.plot(trainY[0],trainY[0],'r')\n",
    "plt.xlabel('True Values')\n",
    "plt.ylabel('Predicted Values')\n",
    "plt.title('The Regression NN model')\n",
    "plt.show()"
   ]
  },
  {
   "cell_type": "code",
   "execution_count": 30,
   "metadata": {},
   "outputs": [
    {
     "data": {
      "text/html": [
       "<div>\n",
       "<style scoped>\n",
       "    .dataframe tbody tr th:only-of-type {\n",
       "        vertical-align: middle;\n",
       "    }\n",
       "\n",
       "    .dataframe tbody tr th {\n",
       "        vertical-align: top;\n",
       "    }\n",
       "\n",
       "    .dataframe thead th {\n",
       "        text-align: right;\n",
       "    }\n",
       "</style>\n",
       "<table border=\"1\" class=\"dataframe\">\n",
       "  <thead>\n",
       "    <tr style=\"text-align: right;\">\n",
       "      <th></th>\n",
       "      <th>0</th>\n",
       "    </tr>\n",
       "  </thead>\n",
       "  <tbody>\n",
       "    <tr>\n",
       "      <th>7667</th>\n",
       "      <td>173153.128904</td>\n",
       "    </tr>\n",
       "    <tr>\n",
       "      <th>7668</th>\n",
       "      <td>105034.316335</td>\n",
       "    </tr>\n",
       "    <tr>\n",
       "      <th>7669</th>\n",
       "      <td>107119.023109</td>\n",
       "    </tr>\n",
       "    <tr>\n",
       "      <th>7670</th>\n",
       "      <td>107042.421567</td>\n",
       "    </tr>\n",
       "    <tr>\n",
       "      <th>7671</th>\n",
       "      <td>104047.830136</td>\n",
       "    </tr>\n",
       "    <tr>\n",
       "      <th>7672</th>\n",
       "      <td>103094.654867</td>\n",
       "    </tr>\n",
       "  </tbody>\n",
       "</table>\n",
       "</div>"
      ],
      "text/plain": [
       "                  0\n",
       "7667  173153.128904\n",
       "7668  105034.316335\n",
       "7669  107119.023109\n",
       "7670  107042.421567\n",
       "7671  104047.830136\n",
       "7672  103094.654867"
      ]
     },
     "execution_count": 30,
     "metadata": {},
     "output_type": "execute_result"
    }
   ],
   "source": [
    "df_ful[-6:]"
   ]
  },
  {
   "cell_type": "code",
   "execution_count": 31,
   "metadata": {},
   "outputs": [
    {
     "data": {
      "text/plain": [
       "[<matplotlib.lines.Line2D at 0x1da51f12c70>]"
      ]
     },
     "execution_count": 31,
     "metadata": {},
     "output_type": "execute_result"
    },
    {
     "data": {
      "image/png": "[encoded data removed]",
      "text/plain": [
       "<Figure size 1280x640 with 1 Axes>"
      ]
     },
     "metadata": {},
     "output_type": "display_data"
    }
   ],
   "source": [
    "figure(figsize=(16, 8), dpi=80)\n",
    "plt.plot(df_ful[-6:])"
   ]
  },
  {
   "cell_type": "markdown",
   "metadata": {},
   "source": [
    "* Splitting the data into testing and training, with 2/3 for training and 1/3 for testing:"
   ]
  },
  {
   "cell_type": "markdown",
   "metadata": {},
   "source": [
    "X, y = df.drop('Close', axis=1), df['Close']\n",
    "X_train, X_test, y_train, y_test = train_test_split(X, y, test_size=1/3, random_state=42)"
   ]
  },
  {
   "cell_type": "markdown",
   "metadata": {},
   "source": [
    "Shape of the data:"
   ]
  },
  {
   "cell_type": "markdown",
   "metadata": {},
   "source": [
    "X_train.shape"
   ]
  },
  {
   "cell_type": "markdown",
   "metadata": {},
   "source": [
    "Hyperparameter tuning using GridSearchCV and KerasClassifier"
   ]
  },
  {
   "cell_type": "code",
   "execution_count": 32,
   "metadata": {},
   "outputs": [],
   "source": [
    "#def build_clf(unit):\n",
    "  # creating the layers of the NN\n",
    "    #ann = tf.keras.models.Sequential()\n",
    "    #ann.add(tf.keras.layers.Dense(units=unit, activation='relu'))\n",
    "    #ann.add(tf.keras.layers.Dense(units=unit, activation='relu'))\n",
    "    #ann.add(tf.keras.layers.Dense(units=1))\n",
    "    #ann.compile(optimizer = 'adam', loss = 'mse', metrics = ['accuracy'])\n",
    "    #return ann"
   ]
  },
  {
   "cell_type": "markdown",
   "metadata": {},
   "source": [
    "object of KerasClassifier class"
   ]
  },
  {
   "cell_type": "code",
   "execution_count": 33,
   "metadata": {},
   "outputs": [],
   "source": [
    "#model_grid = KerasClassifier(build_fn=build_clf)"
   ]
  },
  {
   "cell_type": "code",
   "execution_count": 34,
   "metadata": {
    "scrolled": true
   },
   "outputs": [],
   "source": [
    "#params={'nb_epoch':[200, 100, 600],'unit':np.arange(4,44,8)}\n",
    "\n",
    "#gs = GridSearchCV(estimator=model_grid, param_grid=params, cv=10, verbose=0)\n",
    "# now fit the dataset to the GridSearchCV object. \n",
    "#gs = gs.fit(X, y)"
   ]
  },
  {
   "cell_type": "code",
   "execution_count": 35,
   "metadata": {},
   "outputs": [],
   "source": [
    "#best_params=gs.best_params_\n",
    "#accuracy=gs.best_score_"
   ]
  },
  {
   "cell_type": "markdown",
   "metadata": {},
   "source": [
    "Creating a Model:"
   ]
  },
  {
   "cell_type": "markdown",
   "metadata": {},
   "source": [
    "model = Sequential()\n",
    "\n",
    "model.add(Dense(40,activation='relu'))\n",
    "model.add(Dense(40,activation='relu'))\n",
    "model.add(Dense(40,activation='relu'))\n",
    "model.add(Dense(40,activation='relu'))\n",
    "model.add(Dense(1))\n",
    "\n",
    "model.compile(optimizer='adam',loss='mse')"
   ]
  },
  {
   "cell_type": "markdown",
   "metadata": {},
   "source": [
    "Training the Model:\n",
    "\n",
    "To find the optimal number of epochs, we use the EarlyStopping function:\n"
   ]
  },
  {
   "cell_type": "markdown",
   "metadata": {},
   "source": [
    "from tensorflow.keras.callbacks import EarlyStopping\n",
    "early_stop = EarlyStopping(monitor='val_loss', mode='min', verbose=1, patience=50)\n",
    "#callbacks=[early_stop]"
   ]
  },
  {
   "cell_type": "markdown",
   "metadata": {},
   "source": [
    "model.fit(x=X_train,y=y_train.values,validation_data=(X_test,y_test),\n",
    "          verbose=0, batch_size=32, epochs=1000, callbacks=[early_stop])"
   ]
  },
  {
   "cell_type": "markdown",
   "metadata": {},
   "source": [
    "Checking the model for overfitting:"
   ]
  },
  {
   "cell_type": "markdown",
   "metadata": {},
   "source": [
    "losses = pd.DataFrame(model.history.history)\n",
    "losses.plot()"
   ]
  },
  {
   "cell_type": "markdown",
   "metadata": {},
   "source": [
    "Evaluation on Test Data:"
   ]
  },
  {
   "cell_type": "markdown",
   "metadata": {},
   "source": [
    "predictions = model.predict(X_test)"
   ]
  },
  {
   "cell_type": "markdown",
   "metadata": {},
   "source": [
    "print(\"Mean absolute error is\", mean_absolute_error(y_test,predictions))\n",
    "print(\"Mean squared error is\", np.sqrt(mean_squared_error(y_test,predictions)))\n",
    "print(\"The Variance explied by the models is\", explained_variance_score(y_test,predictions))\n",
    "print(\"The Average percentage error is\", mean_absolute_error(y_test,predictions)/df['Close'].mean()*100)"
   ]
  },
  {
   "cell_type": "markdown",
   "metadata": {},
   "source": [
    "Plot Our predictions vs Perfect predictions"
   ]
  },
  {
   "cell_type": "markdown",
   "metadata": {},
   "source": [
    "plt.scatter(y_test,predictions)\n",
    "plt.plot(y_test,y_test,'r')"
   ]
  },
  {
   "cell_type": "markdown",
   "metadata": {},
   "source": [
    "Min & Max errors:"
   ]
  },
  {
   "cell_type": "markdown",
   "metadata": {},
   "source": [
    "errors = y_test.values.reshape(3012, 1) - predictions\n",
    "print(min(errors), max(errors))"
   ]
  },
  {
   "cell_type": "markdown",
   "metadata": {},
   "source": [
    "Distribution of the errors:"
   ]
  },
  {
   "cell_type": "markdown",
   "metadata": {},
   "source": [
    "sns.distplot(errors, bins=50)"
   ]
  },
  {
   "cell_type": "code",
   "execution_count": null,
   "metadata": {},
   "outputs": [],
   "source": []
  }
 ],
 "metadata": {
  "kernelspec": {
   "display_name": "Python 3 (ipykernel)",
   "language": "python",
   "name": "python3"
  },
  "language_info": {
   "codemirror_mode": {
    "name": "ipython",
    "version": 3
   },
   "file_extension": ".py",
   "mimetype": "text/x-python",
   "name": "python",
   "nbconvert_exporter": "python",
   "pygments_lexer": "ipython3",
   "version": "3.9.13"
  }
 },
 "nbformat": 4,
 "nbformat_minor": 4
}
