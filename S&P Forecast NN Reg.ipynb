{
 "cells": [
  {
   "cell_type": "code",
   "execution_count": 1,
   "metadata": {},
   "outputs": [],
   "source": [
    "import yfinance as yf"
   ]
  },
  {
   "cell_type": "code",
   "execution_count": 2,
   "metadata": {},
   "outputs": [
    {
     "name": "stderr",
     "output_type": "stream",
     "text": [
      "C:\\Users\\MyLenovo\\anaconda3\\lib\\site-packages\\sklearn\\utils\\deprecation.py:143: FutureWarning: The sklearn.metrics.classification module is  deprecated in version 0.22 and will be removed in version 0.24. The corresponding classes / functions should instead be imported from sklearn.metrics. Anything that cannot be imported from sklearn.metrics is now part of the private API.\n",
      "  warnings.warn(message, FutureWarning)\n"
     ]
    }
   ],
   "source": [
    "import pandas as pd\n",
    "import numpy as np\n",
    "import math\n",
    "import statsmodels.api as sm\n",
    "import matplotlib as plt\n",
    "import matplotlib.pyplot as plt\n",
    "import matplotlib.dates as mdates\n",
    "from matplotlib.pyplot import figure\n",
    "from matplotlib import dates\n",
    "from datetime import datetime\n",
    "import scipy.stats as stats\n",
    "import seaborn as sns\n",
    "from sklearn.metrics import mean_absolute_error,r2_score, mean_squared_error, explained_variance_score\n",
    "from sklearn.model_selection import train_test_split\n",
    "from sklearn.metrics import classification, classification_report, confusion_matrix\n",
    "from sklearn import preprocessing\n",
    "from sklearn import metrics\n",
    "from sklearn.model_selection import TimeSeriesSplit\n",
    "from statsmodels.tsa.regime_switching.markov_regression import MarkovRegression\n",
    "import tensorflow as tf\n",
    "from keras.wrappers.scikit_learn import KerasClassifier\n",
    "from sklearn.model_selection import GridSearchCV\n",
    "from tensorflow.keras.models import Sequential\n",
    "from tensorflow.keras.layers import Dense, Activation, LSTM\n",
    "from tensorflow.keras.optimizers import Adam\n",
    "from sklearn.preprocessing import MinMaxScaler\n",
    "from sklearn import neural_network\n",
    "import warnings\n",
    "warnings.filterwarnings('ignore')"
   ]
  },
  {
   "cell_type": "code",
   "execution_count": 3,
   "metadata": {},
   "outputs": [],
   "source": [
    "SPY = yf.Ticker(\"MSFT\")\n",
    "\n",
    "# get stock info\n",
    "SPY.info\n",
    "\n",
    "# get historical market data\n",
    "hist = SPY.history(period=\"max\")"
   ]
  },
  {
   "cell_type": "code",
   "execution_count": 4,
   "metadata": {},
   "outputs": [],
   "source": [
    "df_drop = hist.drop('Dividends', axis=1)\n",
    "df = df_drop.drop('Stock Splits', axis=1)"
   ]
  },
  {
   "cell_type": "code",
   "execution_count": 5,
   "metadata": {},
   "outputs": [
    {
     "data": {
      "text/html": [
       "<div>\n",
       "<style scoped>\n",
       "    .dataframe tbody tr th:only-of-type {\n",
       "        vertical-align: middle;\n",
       "    }\n",
       "\n",
       "    .dataframe tbody tr th {\n",
       "        vertical-align: top;\n",
       "    }\n",
       "\n",
       "    .dataframe thead th {\n",
       "        text-align: right;\n",
       "    }\n",
       "</style>\n",
       "<table border=\"1\" class=\"dataframe\">\n",
       "  <thead>\n",
       "    <tr style=\"text-align: right;\">\n",
       "      <th></th>\n",
       "      <th>Date</th>\n",
       "      <th>Open</th>\n",
       "      <th>High</th>\n",
       "      <th>Low</th>\n",
       "      <th>Close</th>\n",
       "      <th>Volume</th>\n",
       "    </tr>\n",
       "  </thead>\n",
       "  <tbody>\n",
       "    <tr>\n",
       "      <th>0</th>\n",
       "      <td>1986-03-13</td>\n",
       "      <td>0.055898</td>\n",
       "      <td>0.064119</td>\n",
       "      <td>0.055898</td>\n",
       "      <td>0.061378</td>\n",
       "      <td>1031788800</td>\n",
       "    </tr>\n",
       "    <tr>\n",
       "      <th>1</th>\n",
       "      <td>1986-03-14</td>\n",
       "      <td>0.061378</td>\n",
       "      <td>0.064667</td>\n",
       "      <td>0.061378</td>\n",
       "      <td>0.063570</td>\n",
       "      <td>308160000</td>\n",
       "    </tr>\n",
       "    <tr>\n",
       "      <th>2</th>\n",
       "      <td>1986-03-17</td>\n",
       "      <td>0.063570</td>\n",
       "      <td>0.065215</td>\n",
       "      <td>0.063570</td>\n",
       "      <td>0.064667</td>\n",
       "      <td>133171200</td>\n",
       "    </tr>\n",
       "    <tr>\n",
       "      <th>3</th>\n",
       "      <td>1986-03-18</td>\n",
       "      <td>0.064667</td>\n",
       "      <td>0.065215</td>\n",
       "      <td>0.062474</td>\n",
       "      <td>0.063022</td>\n",
       "      <td>67766400</td>\n",
       "    </tr>\n",
       "    <tr>\n",
       "      <th>4</th>\n",
       "      <td>1986-03-19</td>\n",
       "      <td>0.063022</td>\n",
       "      <td>0.063570</td>\n",
       "      <td>0.061378</td>\n",
       "      <td>0.061926</td>\n",
       "      <td>47894400</td>\n",
       "    </tr>\n",
       "    <tr>\n",
       "      <th>...</th>\n",
       "      <td>...</td>\n",
       "      <td>...</td>\n",
       "      <td>...</td>\n",
       "      <td>...</td>\n",
       "      <td>...</td>\n",
       "      <td>...</td>\n",
       "    </tr>\n",
       "    <tr>\n",
       "      <th>9033</th>\n",
       "      <td>2022-01-12</td>\n",
       "      <td>319.670013</td>\n",
       "      <td>323.410004</td>\n",
       "      <td>317.079987</td>\n",
       "      <td>318.269989</td>\n",
       "      <td>34372200</td>\n",
       "    </tr>\n",
       "    <tr>\n",
       "      <th>9034</th>\n",
       "      <td>2022-01-13</td>\n",
       "      <td>320.470001</td>\n",
       "      <td>320.880005</td>\n",
       "      <td>304.000000</td>\n",
       "      <td>304.799988</td>\n",
       "      <td>45366000</td>\n",
       "    </tr>\n",
       "    <tr>\n",
       "      <th>9035</th>\n",
       "      <td>2022-01-14</td>\n",
       "      <td>304.250000</td>\n",
       "      <td>310.820007</td>\n",
       "      <td>303.750000</td>\n",
       "      <td>310.200012</td>\n",
       "      <td>39823500</td>\n",
       "    </tr>\n",
       "    <tr>\n",
       "      <th>9036</th>\n",
       "      <td>2022-01-18</td>\n",
       "      <td>304.070007</td>\n",
       "      <td>309.799988</td>\n",
       "      <td>301.739990</td>\n",
       "      <td>302.649994</td>\n",
       "      <td>42333200</td>\n",
       "    </tr>\n",
       "    <tr>\n",
       "      <th>9037</th>\n",
       "      <td>2022-01-19</td>\n",
       "      <td>304.070007</td>\n",
       "      <td>310.100006</td>\n",
       "      <td>305.299988</td>\n",
       "      <td>309.140015</td>\n",
       "      <td>3819398</td>\n",
       "    </tr>\n",
       "  </tbody>\n",
       "</table>\n",
       "<p>9038 rows × 6 columns</p>\n",
       "</div>"
      ],
      "text/plain": [
       "           Date        Open        High         Low       Close      Volume\n",
       "0    1986-03-13    0.055898    0.064119    0.055898    0.061378  1031788800\n",
       "1    1986-03-14    0.061378    0.064667    0.061378    0.063570   308160000\n",
       "2    1986-03-17    0.063570    0.065215    0.063570    0.064667   133171200\n",
       "3    1986-03-18    0.064667    0.065215    0.062474    0.063022    67766400\n",
       "4    1986-03-19    0.063022    0.063570    0.061378    0.061926    47894400\n",
       "...         ...         ...         ...         ...         ...         ...\n",
       "9033 2022-01-12  319.670013  323.410004  317.079987  318.269989    34372200\n",
       "9034 2022-01-13  320.470001  320.880005  304.000000  304.799988    45366000\n",
       "9035 2022-01-14  304.250000  310.820007  303.750000  310.200012    39823500\n",
       "9036 2022-01-18  304.070007  309.799988  301.739990  302.649994    42333200\n",
       "9037 2022-01-19  304.070007  310.100006  305.299988  309.140015     3819398\n",
       "\n",
       "[9038 rows x 6 columns]"
      ]
     },
     "execution_count": 5,
     "metadata": {},
     "output_type": "execute_result"
    }
   ],
   "source": [
    "df=df.reset_index()\n",
    "df"
   ]
  },
  {
   "cell_type": "code",
   "execution_count": 6,
   "metadata": {},
   "outputs": [
    {
     "data": {
      "text/plain": [
       "0         0.059324\n",
       "1         0.062748\n",
       "2         0.064256\n",
       "3         0.063845\n",
       "4         0.062474\n",
       "           ...    \n",
       "9033    319.607498\n",
       "9034    312.537498\n",
       "9035    307.255005\n",
       "9036    304.564995\n",
       "9037    307.152504\n",
       "Length: 9038, dtype: float64"
      ]
     },
     "execution_count": 6,
     "metadata": {},
     "output_type": "execute_result"
    }
   ],
   "source": [
    "OHLC_avg = df[['Close', 'Open', 'High', 'Low']].mean(axis = 1)\n",
    "\n",
    "OHLC_avg"
   ]
  },
  {
   "cell_type": "code",
   "execution_count": 7,
   "metadata": {},
   "outputs": [],
   "source": [
    "OHLC_avg = np.reshape(OHLC_avg.values, (len(OHLC_avg),1))\n",
    "scaler = MinMaxScaler(feature_range=(0, 1))\n",
    "OHLC_avg = scaler.fit_transform(OHLC_avg)"
   ]
  },
  {
   "cell_type": "code",
   "execution_count": 8,
   "metadata": {},
   "outputs": [],
   "source": [
    "train_OHLC = int(len(OHLC_avg) * 0.75)\n",
    "test_OHLC = len(OHLC_avg) - train_OHLC\n",
    "train_OHLC, test_OHLC = OHLC_avg[0:train_OHLC,:], OHLC_avg[train_OHLC:len(OHLC_avg),:]"
   ]
  },
  {
   "cell_type": "code",
   "execution_count": 9,
   "metadata": {},
   "outputs": [],
   "source": [
    "step_size = 1"
   ]
  },
  {
   "cell_type": "code",
   "execution_count": 10,
   "metadata": {},
   "outputs": [],
   "source": [
    "def new_dataset(dataset, step_size):\n",
    "    data_X, data_Y = [], []\n",
    "    for i in range(len(dataset)-step_size-1):\n",
    "        a = dataset[i:(i+step_size), 0]\n",
    "        data_X.append(a)\n",
    "        data_Y.append(dataset[i + step_size, 0])\n",
    "    return np.array(data_X), np.array(data_Y)"
   ]
  },
  {
   "cell_type": "code",
   "execution_count": 11,
   "metadata": {},
   "outputs": [],
   "source": [
    "trainX, trainY = new_dataset(train_OHLC, 1)\n",
    "testX, testY = new_dataset(test_OHLC, 1)"
   ]
  },
  {
   "cell_type": "code",
   "execution_count": 12,
   "metadata": {},
   "outputs": [],
   "source": [
    "trainX = np.reshape(trainX, (trainX.shape[0], 1, trainX.shape[1]))\n",
    "testX = np.reshape(testX, (testX.shape[0], 1, testX.shape[1]))"
   ]
  },
  {
   "cell_type": "code",
   "execution_count": 13,
   "metadata": {},
   "outputs": [
    {
     "name": "stdout",
     "output_type": "stream",
     "text": [
      "Epoch 1/5\n",
      "6776/6776 [==============================] - 32s 4ms/step - loss: 3.2293e-05: 0s - l\n",
      "Epoch 2/5\n",
      "6776/6776 [==============================] - 31s 5ms/step - loss: 2.0579e-06\n",
      "Epoch 3/5\n",
      "6776/6776 [==============================] - 37s 5ms/step - loss: 2.0188e-06\n",
      "Epoch 4/5\n",
      "6776/6776 [==============================] - 46s 7ms/step - loss: 1.8985e-06\n",
      "Epoch 5/5\n",
      "6776/6776 [==============================] - 52s 8ms/step - loss: 1.6749e-06\n"
     ]
    },
    {
     "data": {
      "text/plain": [
       "<keras.callbacks.History at 0x23ba7809a90>"
      ]
     },
     "execution_count": 13,
     "metadata": {},
     "output_type": "execute_result"
    }
   ],
   "source": [
    "model = Sequential()\n",
    "model.add(LSTM(32, input_shape=(1, step_size), return_sequences = True))\n",
    "model.add(LSTM(16))\n",
    "model.add(Dense(1))\n",
    "\n",
    "model.compile(loss='mean_squared_error', optimizer='adam')\n",
    "model.fit(trainX, trainY, epochs=5, batch_size=1, verbose=1)"
   ]
  },
  {
   "cell_type": "code",
   "execution_count": 14,
   "metadata": {},
   "outputs": [],
   "source": [
    "trainPredict = model.predict(trainX)\n",
    "testPredict = model.predict(testX)"
   ]
  },
  {
   "cell_type": "code",
   "execution_count": 15,
   "metadata": {},
   "outputs": [],
   "source": [
    "trainPredict = scaler.inverse_transform(trainPredict)\n",
    "trainY = scaler.inverse_transform([trainY])\n",
    "testPredict = scaler.inverse_transform(testPredict)\n",
    "testY = scaler.inverse_transform([testY])"
   ]
  },
  {
   "cell_type": "code",
   "execution_count": 16,
   "metadata": {},
   "outputs": [
    {
     "name": "stdout",
     "output_type": "stream",
     "text": [
      "Train RMSE: 0.29\n",
      "Test RMSE: 33.67\n"
     ]
    }
   ],
   "source": [
    "trainScore = math.sqrt(mean_squared_error(trainY[0], trainPredict[:,0]))\n",
    "print('Train RMSE: %.2f' % (trainScore))\n",
    "\n",
    "testScore = math.sqrt(mean_squared_error(testY[0], testPredict[:,0]))\n",
    "print('Test RMSE: %.2f' % (testScore))"
   ]
  },
  {
   "cell_type": "code",
   "execution_count": 17,
   "metadata": {},
   "outputs": [
    {
     "data": {
      "text/plain": [
       "0.208852933452014"
      ]
     },
     "execution_count": 17,
     "metadata": {},
     "output_type": "execute_result"
    }
   ],
   "source": [
    " mean_absolute_error(trainY[0],trainPredict[:,0])"
   ]
  },
  {
   "cell_type": "code",
   "execution_count": 18,
   "metadata": {},
   "outputs": [
    {
     "data": {
      "text/plain": [
       "0.9992578402227488"
      ]
     },
     "execution_count": 18,
     "metadata": {},
     "output_type": "execute_result"
    }
   ],
   "source": [
    "explained_variance_score(trainY[0],trainPredict[:,0])"
   ]
  },
  {
   "cell_type": "code",
   "execution_count": 19,
   "metadata": {},
   "outputs": [],
   "source": [
    "trainPredictPlot = np.empty_like(OHLC_avg)\n",
    "trainPredictPlot[:, :] = np.nan\n",
    "trainPredictPlot[step_size:len(trainPredict)+step_size, :] = trainPredict"
   ]
  },
  {
   "cell_type": "code",
   "execution_count": 20,
   "metadata": {},
   "outputs": [],
   "source": [
    "testPredictPlot = np.empty_like(OHLC_avg)\n",
    "testPredictPlot[:, :] = np.nan\n",
    "testPredictPlot[len(trainPredict)+(step_size*2)+1:len(OHLC_avg)-1, :] = testPredict\n",
    "\n",
    "# DE-NORMALIZING MAIN DATASET \n",
    "OHLC_avg = scaler.inverse_transform(OHLC_avg)"
   ]
  },
  {
   "cell_type": "code",
   "execution_count": 21,
   "metadata": {},
   "outputs": [
    {
     "data": {
      "image/png": "[encoded data removed]",
      "text/plain": [
       "<Figure size 432x288 with 1 Axes>"
      ]
     },
     "metadata": {
      "needs_background": "light"
     },
     "output_type": "display_data"
    }
   ],
   "source": [
    "plt.plot(OHLC_avg, 'g', label = 'original dataset')\n",
    "plt.plot(trainPredictPlot, 'r', label = 'training set')\n",
    "plt.plot(testPredictPlot, 'b', label = 'predicted stock price/test set')\n",
    "plt.legend(loc = 'upper right')\n",
    "plt.xlabel('Time in Days')\n",
    "plt.ylabel('OHLC Value of Apple Stocks')\n",
    "plt.show()"
   ]
  },
  {
   "cell_type": "code",
   "execution_count": 22,
   "metadata": {
    "scrolled": true
   },
   "outputs": [
    {
     "name": "stdout",
     "output_type": "stream",
     "text": [
      "Epoch 1/5\n",
      "9036/9036 - 65s - loss: 3146.2849 - 65s/epoch - 7ms/step\n",
      "Epoch 2/5\n",
      "9036/9036 - 43s - loss: 1990.5133 - 43s/epoch - 5ms/step\n",
      "Epoch 3/5\n",
      "9036/9036 - 37s - loss: 1342.8114 - 37s/epoch - 4ms/step\n",
      "Epoch 4/5\n",
      "9036/9036 - 35s - loss: 906.2429 - 35s/epoch - 4ms/step\n",
      "Epoch 5/5\n",
      "9036/9036 - 42s - loss: 623.3356 - 42s/epoch - 5ms/step\n",
      "Epoch 1/5\n",
      "9037/9037 - 31s - loss: 443.1428 - 31s/epoch - 3ms/step\n",
      "Epoch 2/5\n",
      "9037/9037 - 25s - loss: 319.3717 - 25s/epoch - 3ms/step\n",
      "Epoch 3/5\n",
      "9037/9037 - 38s - loss: 256.0388 - 38s/epoch - 4ms/step\n",
      "Epoch 4/5\n",
      "9037/9037 - 46s - loss: 188.7876 - 46s/epoch - 5ms/step\n",
      "Epoch 5/5\n",
      "9037/9037 - 46s - loss: 150.9383 - 46s/epoch - 5ms/step\n",
      "Epoch 1/5\n",
      "9038/9038 - 37s - loss: 120.5160 - 37s/epoch - 4ms/step\n",
      "Epoch 2/5\n",
      "9038/9038 - 37s - loss: 115.6483 - 37s/epoch - 4ms/step\n",
      "Epoch 3/5\n",
      "9038/9038 - 30s - loss: 79.4208 - 30s/epoch - 3ms/step\n",
      "Epoch 4/5\n",
      "9038/9038 - 30s - loss: 65.8114 - 30s/epoch - 3ms/step\n",
      "Epoch 5/5\n",
      "9038/9038 - 36s - loss: 79.5402 - 36s/epoch - 4ms/step\n",
      "Epoch 1/5\n",
      "9039/9039 - 30s - loss: 52.3244 - 30s/epoch - 3ms/step\n",
      "Epoch 2/5\n",
      "9039/9039 - 26s - loss: 46.0815 - 26s/epoch - 3ms/step\n",
      "Epoch 3/5\n",
      "9039/9039 - 28s - loss: 100.0736 - 28s/epoch - 3ms/step\n",
      "Epoch 4/5\n",
      "9039/9039 - 28s - loss: 80.3791 - 28s/epoch - 3ms/step\n",
      "Epoch 5/5\n",
      "9039/9039 - 29s - loss: 88.6481 - 29s/epoch - 3ms/step\n",
      "Epoch 1/5\n",
      "9040/9040 - 28s - loss: 116.0264 - 28s/epoch - 3ms/step\n",
      "Epoch 2/5\n",
      "9040/9040 - 25s - loss: 102.6903 - 25s/epoch - 3ms/step\n",
      "Epoch 3/5\n",
      "9040/9040 - 27s - loss: 64.7141 - 27s/epoch - 3ms/step\n",
      "Epoch 4/5\n",
      "9040/9040 - 25s - loss: 49.9692 - 25s/epoch - 3ms/step\n",
      "Epoch 5/5\n",
      "9040/9040 - 34s - loss: 59.9979 - 34s/epoch - 4ms/step\n"
     ]
    }
   ],
   "source": [
    "model3=Sequential()\n",
    "model3.add(LSTM(32, input_shape=(1, step_size), return_sequences = True))\n",
    "model3.add(LSTM(16))\n",
    "model3.add(Dense(1))\n",
    "model3.compile(loss='mean_squared_error', optimizer='adam') \n",
    "\n",
    "new_OHLC_avg=OHLC_avg.copy()\n",
    "\n",
    "for i in range(5):\n",
    "    trainX3, trainY3=new_dataset(new_OHLC_avg, 1)\n",
    "    trainX3 = np.reshape(trainX3, (trainX3.shape[0], 1, trainX3.shape[1]))\n",
    "    model3.fit(trainX3, trainY3, epochs=5, batch_size=1, verbose=2)\n",
    "    \n",
    "    last_val = new_OHLC_avg[-1]\n",
    "    next_val = model3.predict(np.reshape(last_val, (1,1,1)))\n",
    "    new_OHLC_avg = np.append(new_OHLC_avg, next_val[0])\n",
    "    new_OHLC_avg=new_OHLC_avg.reshape(-1,1)"
   ]
  },
  {
   "cell_type": "code",
   "execution_count": 23,
   "metadata": {},
   "outputs": [],
   "source": [
    "next_val = scaler.inverse_transform(new_OHLC_avg[-90:])\n",
    "OHLC_avg=scaler.inverse_transform(OHLC_avg)"
   ]
  },
  {
   "cell_type": "code",
   "execution_count": 24,
   "metadata": {},
   "outputs": [],
   "source": [
    "df_new = pd.DataFrame(next_val)\n",
    "df_old =  pd.DataFrame(OHLC_avg)"
   ]
  },
  {
   "cell_type": "code",
   "execution_count": 25,
   "metadata": {},
   "outputs": [],
   "source": [
    "df_full = df_old.append(df_new)"
   ]
  },
  {
   "cell_type": "code",
   "execution_count": 26,
   "metadata": {},
   "outputs": [],
   "source": [
    "df_reset = df_full.reset_index()\n",
    "df_ful = df_reset.drop(['index'], axis=1)"
   ]
  },
  {
   "cell_type": "code",
   "execution_count": 27,
   "metadata": {},
   "outputs": [
    {
     "data": {
      "text/html": [
       "<div>\n",
       "<style scoped>\n",
       "    .dataframe tbody tr th:only-of-type {\n",
       "        vertical-align: middle;\n",
       "    }\n",
       "\n",
       "    .dataframe tbody tr th {\n",
       "        vertical-align: top;\n",
       "    }\n",
       "\n",
       "    .dataframe thead th {\n",
       "        text-align: right;\n",
       "    }\n",
       "</style>\n",
       "<table border=\"1\" class=\"dataframe\">\n",
       "  <thead>\n",
       "    <tr style=\"text-align: right;\">\n",
       "      <th></th>\n",
       "      <th>Date</th>\n",
       "      <th>Open</th>\n",
       "      <th>High</th>\n",
       "      <th>Low</th>\n",
       "      <th>Close</th>\n",
       "      <th>Volume</th>\n",
       "    </tr>\n",
       "  </thead>\n",
       "  <tbody>\n",
       "    <tr>\n",
       "      <th>0</th>\n",
       "      <td>1986-03-13</td>\n",
       "      <td>0.055898</td>\n",
       "      <td>0.064119</td>\n",
       "      <td>0.055898</td>\n",
       "      <td>0.061378</td>\n",
       "      <td>1031788800</td>\n",
       "    </tr>\n",
       "    <tr>\n",
       "      <th>1</th>\n",
       "      <td>1986-03-14</td>\n",
       "      <td>0.061378</td>\n",
       "      <td>0.064667</td>\n",
       "      <td>0.061378</td>\n",
       "      <td>0.063570</td>\n",
       "      <td>308160000</td>\n",
       "    </tr>\n",
       "    <tr>\n",
       "      <th>2</th>\n",
       "      <td>1986-03-17</td>\n",
       "      <td>0.063570</td>\n",
       "      <td>0.065215</td>\n",
       "      <td>0.063570</td>\n",
       "      <td>0.064667</td>\n",
       "      <td>133171200</td>\n",
       "    </tr>\n",
       "    <tr>\n",
       "      <th>3</th>\n",
       "      <td>1986-03-18</td>\n",
       "      <td>0.064667</td>\n",
       "      <td>0.065215</td>\n",
       "      <td>0.062474</td>\n",
       "      <td>0.063022</td>\n",
       "      <td>67766400</td>\n",
       "    </tr>\n",
       "    <tr>\n",
       "      <th>4</th>\n",
       "      <td>1986-03-19</td>\n",
       "      <td>0.063022</td>\n",
       "      <td>0.063570</td>\n",
       "      <td>0.061378</td>\n",
       "      <td>0.061926</td>\n",
       "      <td>47894400</td>\n",
       "    </tr>\n",
       "    <tr>\n",
       "      <th>...</th>\n",
       "      <td>...</td>\n",
       "      <td>...</td>\n",
       "      <td>...</td>\n",
       "      <td>...</td>\n",
       "      <td>...</td>\n",
       "      <td>...</td>\n",
       "    </tr>\n",
       "    <tr>\n",
       "      <th>9033</th>\n",
       "      <td>2022-01-12</td>\n",
       "      <td>319.670013</td>\n",
       "      <td>323.410004</td>\n",
       "      <td>317.079987</td>\n",
       "      <td>318.269989</td>\n",
       "      <td>34372200</td>\n",
       "    </tr>\n",
       "    <tr>\n",
       "      <th>9034</th>\n",
       "      <td>2022-01-13</td>\n",
       "      <td>320.470001</td>\n",
       "      <td>320.880005</td>\n",
       "      <td>304.000000</td>\n",
       "      <td>304.799988</td>\n",
       "      <td>45366000</td>\n",
       "    </tr>\n",
       "    <tr>\n",
       "      <th>9035</th>\n",
       "      <td>2022-01-14</td>\n",
       "      <td>304.250000</td>\n",
       "      <td>310.820007</td>\n",
       "      <td>303.750000</td>\n",
       "      <td>310.200012</td>\n",
       "      <td>39823500</td>\n",
       "    </tr>\n",
       "    <tr>\n",
       "      <th>9036</th>\n",
       "      <td>2022-01-18</td>\n",
       "      <td>304.070007</td>\n",
       "      <td>309.799988</td>\n",
       "      <td>301.739990</td>\n",
       "      <td>302.649994</td>\n",
       "      <td>42333200</td>\n",
       "    </tr>\n",
       "    <tr>\n",
       "      <th>9037</th>\n",
       "      <td>2022-01-19</td>\n",
       "      <td>304.070007</td>\n",
       "      <td>310.100006</td>\n",
       "      <td>305.299988</td>\n",
       "      <td>309.140015</td>\n",
       "      <td>3819398</td>\n",
       "    </tr>\n",
       "  </tbody>\n",
       "</table>\n",
       "<p>9038 rows × 6 columns</p>\n",
       "</div>"
      ],
      "text/plain": [
       "           Date        Open        High         Low       Close      Volume\n",
       "0    1986-03-13    0.055898    0.064119    0.055898    0.061378  1031788800\n",
       "1    1986-03-14    0.061378    0.064667    0.061378    0.063570   308160000\n",
       "2    1986-03-17    0.063570    0.065215    0.063570    0.064667   133171200\n",
       "3    1986-03-18    0.064667    0.065215    0.062474    0.063022    67766400\n",
       "4    1986-03-19    0.063022    0.063570    0.061378    0.061926    47894400\n",
       "...         ...         ...         ...         ...         ...         ...\n",
       "9033 2022-01-12  319.670013  323.410004  317.079987  318.269989    34372200\n",
       "9034 2022-01-13  320.470001  320.880005  304.000000  304.799988    45366000\n",
       "9035 2022-01-14  304.250000  310.820007  303.750000  310.200012    39823500\n",
       "9036 2022-01-18  304.070007  309.799988  301.739990  302.649994    42333200\n",
       "9037 2022-01-19  304.070007  310.100006  305.299988  309.140015     3819398\n",
       "\n",
       "[9038 rows x 6 columns]"
      ]
     },
     "execution_count": 27,
     "metadata": {},
     "output_type": "execute_result"
    }
   ],
   "source": [
    "df"
   ]
  },
  {
   "cell_type": "code",
   "execution_count": 28,
   "metadata": {},
   "outputs": [],
   "source": [
    "from matplotlib.pyplot import figure"
   ]
  },
  {
   "cell_type": "code",
   "execution_count": 29,
   "metadata": {},
   "outputs": [
    {
     "data": {
      "image/png": "[encoded data removed]",
      "text/plain": [
       "<Figure size 432x288 with 1 Axes>"
      ]
     },
     "metadata": {
      "needs_background": "light"
     },
     "output_type": "display_data"
    }
   ],
   "source": [
    "plt.scatter(trainY[0],trainPredict[:,0])\n",
    "plt.plot(trainY[0],trainY[0],'r')\n",
    "plt.xlabel('True Values')\n",
    "plt.ylabel('Predicted Values')\n",
    "plt.title('The Regression NN model')\n",
    "plt.show()"
   ]
  },
  {
   "cell_type": "code",
   "execution_count": 30,
   "metadata": {},
   "outputs": [
    {
     "data": {
      "text/html": [
       "<div>\n",
       "<style scoped>\n",
       "    .dataframe tbody tr th:only-of-type {\n",
       "        vertical-align: middle;\n",
       "    }\n",
       "\n",
       "    .dataframe tbody tr th {\n",
       "        vertical-align: top;\n",
       "    }\n",
       "\n",
       "    .dataframe thead th {\n",
       "        text-align: right;\n",
       "    }\n",
       "</style>\n",
       "<table border=\"1\" class=\"dataframe\">\n",
       "  <thead>\n",
       "    <tr style=\"text-align: right;\">\n",
       "      <th></th>\n",
       "      <th>0</th>\n",
       "    </tr>\n",
       "  </thead>\n",
       "  <tbody>\n",
       "    <tr>\n",
       "      <th>9037</th>\n",
       "      <td>105463.968900</td>\n",
       "    </tr>\n",
       "    <tr>\n",
       "      <th>9038</th>\n",
       "      <td>101009.482799</td>\n",
       "    </tr>\n",
       "    <tr>\n",
       "      <th>9039</th>\n",
       "      <td>101286.242456</td>\n",
       "    </tr>\n",
       "    <tr>\n",
       "      <th>9040</th>\n",
       "      <td>101966.569829</td>\n",
       "    </tr>\n",
       "    <tr>\n",
       "      <th>9041</th>\n",
       "      <td>102549.211251</td>\n",
       "    </tr>\n",
       "    <tr>\n",
       "      <th>...</th>\n",
       "      <td>...</td>\n",
       "    </tr>\n",
       "    <tr>\n",
       "      <th>9123</th>\n",
       "      <td>53983.361747</td>\n",
       "    </tr>\n",
       "    <tr>\n",
       "      <th>9124</th>\n",
       "      <td>56784.715047</td>\n",
       "    </tr>\n",
       "    <tr>\n",
       "      <th>9125</th>\n",
       "      <td>57211.253617</td>\n",
       "    </tr>\n",
       "    <tr>\n",
       "      <th>9126</th>\n",
       "      <td>58344.196263</td>\n",
       "    </tr>\n",
       "    <tr>\n",
       "      <th>9127</th>\n",
       "      <td>61684.271150</td>\n",
       "    </tr>\n",
       "  </tbody>\n",
       "</table>\n",
       "<p>91 rows × 1 columns</p>\n",
       "</div>"
      ],
      "text/plain": [
       "                  0\n",
       "9037  105463.968900\n",
       "9038  101009.482799\n",
       "9039  101286.242456\n",
       "9040  101966.569829\n",
       "9041  102549.211251\n",
       "...             ...\n",
       "9123   53983.361747\n",
       "9124   56784.715047\n",
       "9125   57211.253617\n",
       "9126   58344.196263\n",
       "9127   61684.271150\n",
       "\n",
       "[91 rows x 1 columns]"
      ]
     },
     "execution_count": 30,
     "metadata": {},
     "output_type": "execute_result"
    }
   ],
   "source": [
    "df_ful[-6:]"
   ]
  },
  {
   "cell_type": "code",
   "execution_count": 31,
   "metadata": {},
   "outputs": [
    {
     "data": {
      "text/plain": [
       "[<matplotlib.lines.Line2D at 0x23bb33416a0>]"
      ]
     },
     "execution_count": 31,
     "metadata": {},
     "output_type": "execute_result"
    },
    {
     "data": {
      "image/png": "[encoded data removed]",
      "text/plain": [
       "<Figure size 1280x640 with 1 Axes>"
      ]
     },
     "metadata": {
      "needs_background": "light"
     },
     "output_type": "display_data"
    }
   ],
   "source": [
    "figure(figsize=(16, 8), dpi=80)\n",
    "plt.plot(df_ful[-6:])"
   ]
  },
  {
   "cell_type": "markdown",
   "metadata": {},
   "source": [
    "* Splitting the data into testing and training, with 2/3 for training and 1/3 for testing:"
   ]
  },
  {
   "cell_type": "markdown",
   "metadata": {},
   "source": [
    "X, y = df.drop('Close', axis=1), df['Close']\n",
    "X_train, X_test, y_train, y_test = train_test_split(X, y, test_size=1/3, random_state=42)"
   ]
  },
  {
   "cell_type": "markdown",
   "metadata": {},
   "source": [
    "Shape of the data:"
   ]
  },
  {
   "cell_type": "markdown",
   "metadata": {},
   "source": [
    "X_train.shape"
   ]
  },
  {
   "cell_type": "markdown",
   "metadata": {},
   "source": [
    "Hyperparameter tuning using GridSearchCV and KerasClassifier"
   ]
  },
  {
   "cell_type": "code",
   "execution_count": 32,
   "metadata": {},
   "outputs": [],
   "source": [
    "#def build_clf(unit):\n",
    "  # creating the layers of the NN\n",
    "    #ann = tf.keras.models.Sequential()\n",
    "    #ann.add(tf.keras.layers.Dense(units=unit, activation='relu'))\n",
    "    #ann.add(tf.keras.layers.Dense(units=unit, activation='relu'))\n",
    "    #ann.add(tf.keras.layers.Dense(units=1))\n",
    "    #ann.compile(optimizer = 'adam', loss = 'mse', metrics = ['accuracy'])\n",
    "    #return ann"
   ]
  },
  {
   "cell_type": "markdown",
   "metadata": {},
   "source": [
    "object of KerasClassifier class"
   ]
  },
  {
   "cell_type": "code",
   "execution_count": 33,
   "metadata": {},
   "outputs": [],
   "source": [
    "#model_grid = KerasClassifier(build_fn=build_clf)"
   ]
  },
  {
   "cell_type": "code",
   "execution_count": 34,
   "metadata": {
    "scrolled": true
   },
   "outputs": [],
   "source": [
    "#params={'nb_epoch':[200, 100, 600],'unit':np.arange(4,44,8)}\n",
    "\n",
    "#gs = GridSearchCV(estimator=model_grid, param_grid=params, cv=10, verbose=0)\n",
    "# now fit the dataset to the GridSearchCV object. \n",
    "#gs = gs.fit(X, y)"
   ]
  },
  {
   "cell_type": "code",
   "execution_count": 35,
   "metadata": {},
   "outputs": [],
   "source": [
    "#best_params=gs.best_params_\n",
    "#accuracy=gs.best_score_"
   ]
  },
  {
   "cell_type": "markdown",
   "metadata": {},
   "source": [
    "Creating a Model:"
   ]
  },
  {
   "cell_type": "markdown",
   "metadata": {},
   "source": [
    "model = Sequential()\n",
    "\n",
    "model.add(Dense(40,activation='relu'))\n",
    "model.add(Dense(40,activation='relu'))\n",
    "model.add(Dense(40,activation='relu'))\n",
    "model.add(Dense(40,activation='relu'))\n",
    "model.add(Dense(1))\n",
    "\n",
    "model.compile(optimizer='adam',loss='mse')"
   ]
  },
  {
   "cell_type": "markdown",
   "metadata": {},
   "source": [
    "Training the Model:\n",
    "\n",
    "To find the optimal number of epochs, we use the EarlyStopping function:\n"
   ]
  },
  {
   "cell_type": "markdown",
   "metadata": {},
   "source": [
    "from tensorflow.keras.callbacks import EarlyStopping\n",
    "early_stop = EarlyStopping(monitor='val_loss', mode='min', verbose=1, patience=50)\n",
    "#callbacks=[early_stop]"
   ]
  },
  {
   "cell_type": "markdown",
   "metadata": {},
   "source": [
    "model.fit(x=X_train,y=y_train.values,validation_data=(X_test,y_test),\n",
    "          verbose=0, batch_size=32, epochs=1000, callbacks=[early_stop])"
   ]
  },
  {
   "cell_type": "markdown",
   "metadata": {},
   "source": [
    "Checking the model for overfitting:"
   ]
  },
  {
   "cell_type": "markdown",
   "metadata": {},
   "source": [
    "losses = pd.DataFrame(model.history.history)\n",
    "losses.plot()"
   ]
  },
  {
   "cell_type": "markdown",
   "metadata": {},
   "source": [
    "Evaluation on Test Data:"
   ]
  },
  {
   "cell_type": "markdown",
   "metadata": {},
   "source": [
    "predictions = model.predict(X_test)"
   ]
  },
  {
   "cell_type": "markdown",
   "metadata": {},
   "source": [
    "print(\"Mean absolute error is\", mean_absolute_error(y_test,predictions))\n",
    "print(\"Mean squared error is\", np.sqrt(mean_squared_error(y_test,predictions)))\n",
    "print(\"The Variance explied by the models is\", explained_variance_score(y_test,predictions))\n",
    "print(\"The Average percentage error is\", mean_absolute_error(y_test,predictions)/df['Close'].mean()*100)"
   ]
  },
  {
   "cell_type": "markdown",
   "metadata": {},
   "source": [
    "Plot Our predictions vs Perfect predictions"
   ]
  },
  {
   "cell_type": "markdown",
   "metadata": {},
   "source": [
    "plt.scatter(y_test,predictions)\n",
    "plt.plot(y_test,y_test,'r')"
   ]
  },
  {
   "cell_type": "markdown",
   "metadata": {},
   "source": [
    "Min & Max errors:"
   ]
  },
  {
   "cell_type": "markdown",
   "metadata": {},
   "source": [
    "errors = y_test.values.reshape(3012, 1) - predictions\n",
    "print(min(errors), max(errors))"
   ]
  },
  {
   "cell_type": "markdown",
   "metadata": {},
   "source": [
    "Distribution of the errors:"
   ]
  },
  {
   "cell_type": "markdown",
   "metadata": {},
   "source": [
    "sns.distplot(errors, bins=50)"
   ]
  },
  {
   "cell_type": "code",
   "execution_count": null,
   "metadata": {},
   "outputs": [],
   "source": []
  }
 ],
 "metadata": {
  "kernelspec": {
   "display_name": "Python 3",
   "language": "python",
   "name": "python3"
  },
  "language_info": {
   "codemirror_mode": {
    "name": "ipython",
    "version": 3
   },
   "file_extension": ".py",
   "mimetype": "text/x-python",
   "name": "python",
   "nbconvert_exporter": "python",
   "pygments_lexer": "ipython3",
   "version": "3.8.3"
  }
 },
 "nbformat": 4,
 "nbformat_minor": 4
}
